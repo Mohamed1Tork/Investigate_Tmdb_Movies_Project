{
 "cells": [
  {
   "cell_type": "markdown",
   "metadata": {},
   "source": [
    "\n",
    "\n",
    "# Project: Investigate a Dataset (TMDb_Movie Data)\n",
    "\n",
    "## Table of Contents\n",
    "<ul>\n",
    "<li><a href=\"#intro\">Introduction</a></li>\n",
    "<li><a href=\"#wrangling\">Data Wrangling</a></li>\n",
    "<li><a href=\"#eda\">Exploratory Data Analysis</a></li>\n",
    "<li><a herf=\"#questions\">Questions</a></li> \n",
    "<li><a href=\"#conclusions\">Conclusions</a></li> \n",
    "</ul>"
   ]
  },
  {
   "cell_type": "markdown",
   "metadata": {},
   "source": [
    "<a id='intro'></a>\n",
    "## Introduction\n",
    "\n",
    "This data set contains information\n",
    "about 10,000 movies collected from\n",
    "The Movie Database (TMDb),\n",
    "including user ratings and revenue.\n",
    "It consist of 21 columns such as imdb_id, revenue, budget, vote_count etc.\n",
    "\n",
    "## Question that can explored from this data set\n",
    "1-Which Movies with biggest and smallest budgets?\n",
    "\n",
    "2-Which Movies has biggest and smallest profit?\n",
    "    \n",
    "3-Which years has biggest and smallest number of producing Movies?\n",
    "\n",
    "4-Average (budgets,runtime) of the movies\n",
    "\n",
    "5-Relation between profits and years and which year had maximum and minimum profits? "
   ]
  },
  {
   "cell_type": "code",
   "execution_count": 1,
   "metadata": {},
   "outputs": [],
   "source": [
    "# import libraries\n",
    "import pandas as pd\n",
    "import numpy as np\n",
    "import seaborn as sns\n",
    "import matplotlib.pyplot as plt\n",
    "%matplotlib inline"
   ]
  },
  {
   "cell_type": "code",
   "execution_count": 2,
   "metadata": {},
   "outputs": [
    {
     "name": "stdout",
     "output_type": "stream",
     "text": [
      "Requirement already satisfied: pandas==0.25.0 in c:\\users\\mohamed saeed\\anaconda3\\lib\\site-packages (0.25.0)\n",
      "Requirement already satisfied: python-dateutil>=2.6.1 in c:\\users\\mohamed saeed\\anaconda3\\lib\\site-packages (from pandas==0.25.0) (2.8.0)\n",
      "Requirement already satisfied: pytz>=2017.2 in c:\\users\\mohamed saeed\\anaconda3\\lib\\site-packages (from pandas==0.25.0) (2019.3)\n",
      "Requirement already satisfied: numpy>=1.13.3 in c:\\users\\mohamed saeed\\anaconda3\\lib\\site-packages (from pandas==0.25.0) (1.21.6)\n",
      "Requirement already satisfied: six>=1.5 in c:\\users\\mohamed saeed\\anaconda3\\lib\\site-packages (from python-dateutil>=2.6.1->pandas==0.25.0) (1.12.0)\n"
     ]
    },
    {
     "name": "stderr",
     "output_type": "stream",
     "text": [
      "WARNING: Ignoring invalid distribution -umpy (c:\\users\\mohamed saeed\\anaconda3\\lib\\site-packages)\n",
      "WARNING: Ignoring invalid distribution -umpy (c:\\users\\mohamed saeed\\anaconda3\\lib\\site-packages)\n",
      "WARNING: Ignoring invalid distribution -umpy (c:\\users\\mohamed saeed\\anaconda3\\lib\\site-packages)\n",
      "WARNING: Ignoring invalid distribution -umpy (c:\\users\\mohamed saeed\\anaconda3\\lib\\site-packages)\n",
      "WARNING: Ignoring invalid distribution -umpy (c:\\users\\mohamed saeed\\anaconda3\\lib\\site-packages)\n",
      "WARNING: Ignoring invalid distribution -umpy (c:\\users\\mohamed saeed\\anaconda3\\lib\\site-packages)\n",
      "WARNING: You are using pip version 22.0.4; however, version 22.3.1 is available.\n",
      "You should consider upgrading via the 'c:\\users\\mohamed saeed\\anaconda3\\python.exe -m pip install --upgrade pip' command.\n"
     ]
    }
   ],
   "source": [
    "!pip install --upgrade pandas==0.25.0"
   ]
  },
  {
   "cell_type": "markdown",
   "metadata": {},
   "source": [
    "<a id='wrangling'></a>\n",
    "## Data Wrangling\n",
    "\n",
    "At first i load my data and see details about it like the shape to know number of rows and columns at the next step i use info function to see more details about my data and see if there is a nulling values to treat with it then i use duplicate function to see if there is any duplicated rows and delete it then i use is null function to see if there is nulling values and delete it at last step i use dtypes function to see the data type of each column.\n",
    "\n",
    "### General Properties"
   ]
  },
  {
   "cell_type": "code",
   "execution_count": 2,
   "metadata": {},
   "outputs": [
    {
     "data": {
      "text/html": [
       "<div>\n",
       "<style scoped>\n",
       "    .dataframe tbody tr th:only-of-type {\n",
       "        vertical-align: middle;\n",
       "    }\n",
       "\n",
       "    .dataframe tbody tr th {\n",
       "        vertical-align: top;\n",
       "    }\n",
       "\n",
       "    .dataframe thead th {\n",
       "        text-align: right;\n",
       "    }\n",
       "</style>\n",
       "<table border=\"1\" class=\"dataframe\">\n",
       "  <thead>\n",
       "    <tr style=\"text-align: right;\">\n",
       "      <th></th>\n",
       "      <th>id</th>\n",
       "      <th>imdb_id</th>\n",
       "      <th>popularity</th>\n",
       "      <th>budget</th>\n",
       "      <th>revenue</th>\n",
       "      <th>original_title</th>\n",
       "      <th>cast</th>\n",
       "      <th>homepage</th>\n",
       "      <th>director</th>\n",
       "      <th>tagline</th>\n",
       "      <th>...</th>\n",
       "      <th>overview</th>\n",
       "      <th>runtime</th>\n",
       "      <th>genres</th>\n",
       "      <th>production_companies</th>\n",
       "      <th>release_date</th>\n",
       "      <th>vote_count</th>\n",
       "      <th>vote_average</th>\n",
       "      <th>release_year</th>\n",
       "      <th>budget_adj</th>\n",
       "      <th>revenue_adj</th>\n",
       "    </tr>\n",
       "  </thead>\n",
       "  <tbody>\n",
       "    <tr>\n",
       "      <th>0</th>\n",
       "      <td>135397</td>\n",
       "      <td>tt0369610</td>\n",
       "      <td>32.985763</td>\n",
       "      <td>150000000</td>\n",
       "      <td>1513528810</td>\n",
       "      <td>Jurassic World</td>\n",
       "      <td>Chris Pratt|Bryce Dallas Howard|Irrfan Khan|Vi...</td>\n",
       "      <td>http://www.jurassicworld.com/</td>\n",
       "      <td>Colin Trevorrow</td>\n",
       "      <td>The park is open.</td>\n",
       "      <td>...</td>\n",
       "      <td>Twenty-two years after the events of Jurassic ...</td>\n",
       "      <td>124</td>\n",
       "      <td>Action|Adventure|Science Fiction|Thriller</td>\n",
       "      <td>Universal Studios|Amblin Entertainment|Legenda...</td>\n",
       "      <td>6/9/15</td>\n",
       "      <td>5562</td>\n",
       "      <td>6.5</td>\n",
       "      <td>2015</td>\n",
       "      <td>1.379999e+08</td>\n",
       "      <td>1.392446e+09</td>\n",
       "    </tr>\n",
       "    <tr>\n",
       "      <th>1</th>\n",
       "      <td>76341</td>\n",
       "      <td>tt1392190</td>\n",
       "      <td>28.419936</td>\n",
       "      <td>150000000</td>\n",
       "      <td>378436354</td>\n",
       "      <td>Mad Max: Fury Road</td>\n",
       "      <td>Tom Hardy|Charlize Theron|Hugh Keays-Byrne|Nic...</td>\n",
       "      <td>http://www.madmaxmovie.com/</td>\n",
       "      <td>George Miller</td>\n",
       "      <td>What a Lovely Day.</td>\n",
       "      <td>...</td>\n",
       "      <td>An apocalyptic story set in the furthest reach...</td>\n",
       "      <td>120</td>\n",
       "      <td>Action|Adventure|Science Fiction|Thriller</td>\n",
       "      <td>Village Roadshow Pictures|Kennedy Miller Produ...</td>\n",
       "      <td>5/13/15</td>\n",
       "      <td>6185</td>\n",
       "      <td>7.1</td>\n",
       "      <td>2015</td>\n",
       "      <td>1.379999e+08</td>\n",
       "      <td>3.481613e+08</td>\n",
       "    </tr>\n",
       "  </tbody>\n",
       "</table>\n",
       "<p>2 rows × 21 columns</p>\n",
       "</div>"
      ],
      "text/plain": [
       "       id    imdb_id  popularity     budget     revenue      original_title  \\\n",
       "0  135397  tt0369610   32.985763  150000000  1513528810      Jurassic World   \n",
       "1   76341  tt1392190   28.419936  150000000   378436354  Mad Max: Fury Road   \n",
       "\n",
       "                                                cast  \\\n",
       "0  Chris Pratt|Bryce Dallas Howard|Irrfan Khan|Vi...   \n",
       "1  Tom Hardy|Charlize Theron|Hugh Keays-Byrne|Nic...   \n",
       "\n",
       "                        homepage         director             tagline  ...  \\\n",
       "0  http://www.jurassicworld.com/  Colin Trevorrow   The park is open.  ...   \n",
       "1    http://www.madmaxmovie.com/    George Miller  What a Lovely Day.  ...   \n",
       "\n",
       "                                            overview runtime  \\\n",
       "0  Twenty-two years after the events of Jurassic ...     124   \n",
       "1  An apocalyptic story set in the furthest reach...     120   \n",
       "\n",
       "                                      genres  \\\n",
       "0  Action|Adventure|Science Fiction|Thriller   \n",
       "1  Action|Adventure|Science Fiction|Thriller   \n",
       "\n",
       "                                production_companies release_date vote_count  \\\n",
       "0  Universal Studios|Amblin Entertainment|Legenda...       6/9/15       5562   \n",
       "1  Village Roadshow Pictures|Kennedy Miller Produ...      5/13/15       6185   \n",
       "\n",
       "   vote_average  release_year    budget_adj   revenue_adj  \n",
       "0           6.5          2015  1.379999e+08  1.392446e+09  \n",
       "1           7.1          2015  1.379999e+08  3.481613e+08  \n",
       "\n",
       "[2 rows x 21 columns]"
      ]
     },
     "execution_count": 2,
     "metadata": {},
     "output_type": "execute_result"
    }
   ],
   "source": [
    "# Load your data and print out a few lines. Perform operations to inspect data\n",
    "df=pd.read_csv('tmdb-movies.csv')\n",
    "# types and look for instances of missing or possibly errant data.\n",
    "df.head(2)"
   ]
  },
  {
   "cell_type": "code",
   "execution_count": 4,
   "metadata": {},
   "outputs": [
    {
     "data": {
      "text/plain": [
       "(10866, 21)"
      ]
     },
     "execution_count": 4,
     "metadata": {},
     "output_type": "execute_result"
    }
   ],
   "source": [
    "# the shape of the data\n",
    "df.shape"
   ]
  },
  {
   "cell_type": "code",
   "execution_count": 5,
   "metadata": {},
   "outputs": [
    {
     "data": {
      "text/plain": [
       "id                        int64\n",
       "imdb_id                  object\n",
       "popularity              float64\n",
       "budget                    int64\n",
       "revenue                   int64\n",
       "original_title           object\n",
       "cast                     object\n",
       "homepage                 object\n",
       "director                 object\n",
       "tagline                  object\n",
       "keywords                 object\n",
       "overview                 object\n",
       "runtime                   int64\n",
       "genres                   object\n",
       "production_companies     object\n",
       "release_date             object\n",
       "vote_count                int64\n",
       "vote_average            float64\n",
       "release_year              int64\n",
       "budget_adj              float64\n",
       "revenue_adj             float64\n",
       "dtype: object"
      ]
     },
     "execution_count": 5,
     "metadata": {},
     "output_type": "execute_result"
    }
   ],
   "source": [
    "# data type of each column\n",
    "df.dtypes"
   ]
  },
  {
   "cell_type": "code",
   "execution_count": 6,
   "metadata": {},
   "outputs": [
    {
     "data": {
      "text/plain": [
       "id                         0\n",
       "imdb_id                   10\n",
       "popularity                 0\n",
       "budget                     0\n",
       "revenue                    0\n",
       "original_title             0\n",
       "cast                      76\n",
       "homepage                7930\n",
       "director                  44\n",
       "tagline                 2824\n",
       "keywords                1493\n",
       "overview                   4\n",
       "runtime                    0\n",
       "genres                    23\n",
       "production_companies    1030\n",
       "release_date               0\n",
       "vote_count                 0\n",
       "vote_average               0\n",
       "release_year               0\n",
       "budget_adj                 0\n",
       "revenue_adj                0\n",
       "dtype: int64"
      ]
     },
     "execution_count": 6,
     "metadata": {},
     "output_type": "execute_result"
    }
   ],
   "source": [
    "#check the number of null values in each row\n",
    "df.isnull().sum()"
   ]
  },
  {
   "cell_type": "code",
   "execution_count": 7,
   "metadata": {},
   "outputs": [
    {
     "data": {
      "text/plain": [
       "1"
      ]
     },
     "execution_count": 7,
     "metadata": {},
     "output_type": "execute_result"
    }
   ],
   "source": [
    "#see if there is any duplicated rows \n",
    "df.duplicated().sum()"
   ]
  },
  {
   "cell_type": "markdown",
   "metadata": {},
   "source": [
    "### Data Cleaning (removing nulls,duplicates and unimportant features)"
   ]
  },
  {
   "cell_type": "code",
   "execution_count": 3,
   "metadata": {},
   "outputs": [],
   "source": [
    "# 1-Remove unimportant features such as id, imdb_id, vote_count, production_company, keywords, homepage etc.\n",
    "del_features=[ 'id', 'imdb_id', 'popularity', 'budget_adj', 'revenue_adj', 'homepage', 'keywords', 'overview', 'production_companies', 'vote_count', 'vote_average']\n",
    "df.drop(del_features,axis=1, inplace=True)"
   ]
  },
  {
   "cell_type": "code",
   "execution_count": 4,
   "metadata": {},
   "outputs": [
    {
     "data": {
      "text/plain": [
       "0"
      ]
     },
     "execution_count": 4,
     "metadata": {},
     "output_type": "execute_result"
    }
   ],
   "source": [
    "# 2-Remove duplicates in the rows.\n",
    "df.drop_duplicates(inplace=True)\n",
    "df.duplicated().sum()"
   ]
  },
  {
   "cell_type": "code",
   "execution_count": 5,
   "metadata": {},
   "outputs": [
    {
     "data": {
      "text/plain": [
       "budget            5696\n",
       "revenue           6016\n",
       "original_title       0\n",
       "cast                76\n",
       "director            44\n",
       "tagline           2824\n",
       "runtime              0\n",
       "genres              23\n",
       "release_date         0\n",
       "release_year         0\n",
       "dtype: int64"
      ]
     },
     "execution_count": 5,
     "metadata": {},
     "output_type": "execute_result"
    }
   ],
   "source": [
    "# 3-Replace zero with NAN in budget, revenue column.\n",
    "columns=['budget', 'revenue']\n",
    "\n",
    "df[columns] =df[columns].replace(0,np.NAN)\n",
    "\n",
    "df.isnull().sum()"
   ]
  },
  {
   "cell_type": "code",
   "execution_count": 6,
   "metadata": {},
   "outputs": [
    {
     "data": {
      "text/plain": [
       "(3854, 10)"
      ]
     },
     "execution_count": 6,
     "metadata": {},
     "output_type": "execute_result"
    }
   ],
   "source": [
    "# 4-Remove NULL values.\n",
    "df.dropna( subset =columns, inplace = True)\n",
    "df.shape"
   ]
  },
  {
   "cell_type": "code",
   "execution_count": 7,
   "metadata": {},
   "outputs": [
    {
     "data": {
      "text/plain": [
       "budget             int32\n",
       "revenue            int32\n",
       "original_title    object\n",
       "cast              object\n",
       "director          object\n",
       "tagline           object\n",
       "runtime            int64\n",
       "genres            object\n",
       "release_date      object\n",
       "release_year       int64\n",
       "dtype: object"
      ]
     },
     "execution_count": 7,
     "metadata": {},
     "output_type": "execute_result"
    }
   ],
   "source": [
    "# 5-Change format of budget and revenue column.\n",
    "df['revenue']=df['revenue'].astype(int)\n",
    "df['budget']=df['budget'].astype(int)\n",
    "df.dtypes"
   ]
  },
  {
   "cell_type": "markdown",
   "metadata": {},
   "source": [
    "<a id='eda'></a>\n",
    "## Exploratory Data Analysis\n",
    "\n",
    "\n",
    "### Research Question 1 (Which Movies with biggest and smallest budgets?)"
   ]
  },
  {
   "cell_type": "code",
   "execution_count": 8,
   "metadata": {},
   "outputs": [
    {
     "name": "stdout",
     "output_type": "stream",
     "text": [
      "the index of maximum budget movie is:  2244\n",
      "budget                                                    425000000\n",
      "revenue                                                    11087569\n",
      "original_title                                    The Warrior's Way\n",
      "cast              Kate Bosworth|Jang Dong-gun|Geoffrey Rush|Dann...\n",
      "director                                                 Sngmoo Lee\n",
      "tagline                                     Assassin. Hero. Legend.\n",
      "runtime                                                         100\n",
      "genres                    Adventure|Fantasy|Action|Western|Thriller\n",
      "release_date                                                12/2/10\n",
      "release_year                                                   2010\n",
      "Name: 2244, dtype: object\n"
     ]
    }
   ],
   "source": [
    "# first we research for the movie with biggest budget \n",
    "highest_budget=df['budget'].idxmax()\n",
    "print('the index of maximum budget movie is: ',highest_budget);\n",
    "# the details about the movie\n",
    "highest_budget_info=df.loc[highest_budget]\n",
    "print(highest_budget_info)"
   ]
  },
  {
   "cell_type": "code",
   "execution_count": 9,
   "metadata": {},
   "outputs": [
    {
     "name": "stdout",
     "output_type": "stream",
     "text": [
      "the index of minimum budget movie is:  2618\n",
      "budget                                                            1\n",
      "revenue                                                         100\n",
      "original_title                                         Lost & Found\n",
      "cast              David Spade|Sophie Marceau|Ever Carradine|Step...\n",
      "director                                               Jeff Pollack\n",
      "tagline           A comedy about a guy who would do anything to ...\n",
      "runtime                                                          95\n",
      "genres                                               Comedy|Romance\n",
      "release_date                                                4/23/99\n",
      "release_year                                                   1999\n",
      "Name: 2618, dtype: object\n"
     ]
    }
   ],
   "source": [
    "# second we research for the movie with smallest budget \n",
    "smallet_budget=df['budget'].idxmin()\n",
    "print('the index of minimum budget movie is: ',smallet_budget);\n",
    "# the details about the movie\n",
    "smallet_budget_info=df.loc[smallet_budget]\n",
    "print(smallet_budget_info)\n"
   ]
  },
  {
   "cell_type": "markdown",
   "metadata": {},
   "source": [
    "### Research Question 2  (Calculating which Movies has biggest and smallest profit)"
   ]
  },
  {
   "cell_type": "code",
   "execution_count": 10,
   "metadata": {},
   "outputs": [
    {
     "data": {
      "text/html": [
       "<div>\n",
       "<style scoped>\n",
       "    .dataframe tbody tr th:only-of-type {\n",
       "        vertical-align: middle;\n",
       "    }\n",
       "\n",
       "    .dataframe tbody tr th {\n",
       "        vertical-align: top;\n",
       "    }\n",
       "\n",
       "    .dataframe thead th {\n",
       "        text-align: right;\n",
       "    }\n",
       "</style>\n",
       "<table border=\"1\" class=\"dataframe\">\n",
       "  <thead>\n",
       "    <tr style=\"text-align: right;\">\n",
       "      <th></th>\n",
       "      <th>budget</th>\n",
       "      <th>revenue</th>\n",
       "      <th>original_title</th>\n",
       "      <th>cast</th>\n",
       "      <th>director</th>\n",
       "      <th>tagline</th>\n",
       "      <th>runtime</th>\n",
       "      <th>genres</th>\n",
       "      <th>release_date</th>\n",
       "      <th>release_year</th>\n",
       "      <th>net_profit</th>\n",
       "    </tr>\n",
       "  </thead>\n",
       "  <tbody>\n",
       "    <tr>\n",
       "      <th>0</th>\n",
       "      <td>150000000</td>\n",
       "      <td>1513528810</td>\n",
       "      <td>Jurassic World</td>\n",
       "      <td>Chris Pratt|Bryce Dallas Howard|Irrfan Khan|Vi...</td>\n",
       "      <td>Colin Trevorrow</td>\n",
       "      <td>The park is open.</td>\n",
       "      <td>124</td>\n",
       "      <td>Action|Adventure|Science Fiction|Thriller</td>\n",
       "      <td>6/9/15</td>\n",
       "      <td>2015</td>\n",
       "      <td>1363528810</td>\n",
       "    </tr>\n",
       "    <tr>\n",
       "      <th>1</th>\n",
       "      <td>150000000</td>\n",
       "      <td>378436354</td>\n",
       "      <td>Mad Max: Fury Road</td>\n",
       "      <td>Tom Hardy|Charlize Theron|Hugh Keays-Byrne|Nic...</td>\n",
       "      <td>George Miller</td>\n",
       "      <td>What a Lovely Day.</td>\n",
       "      <td>120</td>\n",
       "      <td>Action|Adventure|Science Fiction|Thriller</td>\n",
       "      <td>5/13/15</td>\n",
       "      <td>2015</td>\n",
       "      <td>228436354</td>\n",
       "    </tr>\n",
       "  </tbody>\n",
       "</table>\n",
       "</div>"
      ],
      "text/plain": [
       "      budget     revenue      original_title  \\\n",
       "0  150000000  1513528810      Jurassic World   \n",
       "1  150000000   378436354  Mad Max: Fury Road   \n",
       "\n",
       "                                                cast         director  \\\n",
       "0  Chris Pratt|Bryce Dallas Howard|Irrfan Khan|Vi...  Colin Trevorrow   \n",
       "1  Tom Hardy|Charlize Theron|Hugh Keays-Byrne|Nic...    George Miller   \n",
       "\n",
       "              tagline  runtime                                     genres  \\\n",
       "0   The park is open.      124  Action|Adventure|Science Fiction|Thriller   \n",
       "1  What a Lovely Day.      120  Action|Adventure|Science Fiction|Thriller   \n",
       "\n",
       "  release_date  release_year  net_profit  \n",
       "0       6/9/15          2015  1363528810  \n",
       "1      5/13/15          2015   228436354  "
      ]
     },
     "execution_count": 10,
     "metadata": {},
     "output_type": "execute_result"
    }
   ],
   "source": [
    "# we create a new column called net_profit equal to revenue subtract budget\n",
    "df['net_profit']=df['revenue']-df['budget']\n",
    "df.head(2)\n"
   ]
  },
  {
   "cell_type": "code",
   "execution_count": 11,
   "metadata": {},
   "outputs": [
    {
     "name": "stdout",
     "output_type": "stream",
     "text": [
      "the index of maximum value is:  1386\n",
      "budget                                                    237000000\n",
      "revenue                                                 -2147483648\n",
      "original_title                                               Avatar\n",
      "cast              Sam Worthington|Zoe Saldana|Sigourney Weaver|S...\n",
      "director                                              James Cameron\n",
      "tagline                                 Enter the World of Pandora.\n",
      "runtime                                                         162\n",
      "genres                     Action|Adventure|Fantasy|Science Fiction\n",
      "release_date                                               12/10/09\n",
      "release_year                                                   2009\n",
      "net_profit                                               1910483648\n",
      "Name: 1386, dtype: object\n"
     ]
    }
   ],
   "source": [
    "# first we research for the movie with biggest net_profit\n",
    "biggest_profit=df['net_profit'].idxmax()\n",
    "print('the index of maximum value is: ',biggest_profit);\n",
    "# the details about the movie\n",
    "biggest_profit_info=df.loc[biggest_profit]\n",
    "print(biggest_profit_info)"
   ]
  },
  {
   "cell_type": "code",
   "execution_count": 12,
   "metadata": {},
   "outputs": [
    {
     "name": "stdout",
     "output_type": "stream",
     "text": [
      "the index of maximum value is:  2244\n",
      "budget                                                    425000000\n",
      "revenue                                                    11087569\n",
      "original_title                                    The Warrior's Way\n",
      "cast              Kate Bosworth|Jang Dong-gun|Geoffrey Rush|Dann...\n",
      "director                                                 Sngmoo Lee\n",
      "tagline                                     Assassin. Hero. Legend.\n",
      "runtime                                                         100\n",
      "genres                    Adventure|Fantasy|Action|Western|Thriller\n",
      "release_date                                                12/2/10\n",
      "release_year                                                   2010\n",
      "net_profit                                               -413912431\n",
      "Name: 2244, dtype: object\n"
     ]
    }
   ],
   "source": [
    "# second we research for the movie with smallest net_profit\n",
    "smallest_profit=df['net_profit'].idxmin()\n",
    "print('the index of maximum value is: ',smallest_profit);\n",
    "# the details about the movie\n",
    "smallest_profit_info=df.loc[smallest_profit]\n",
    "print(smallest_profit_info)"
   ]
  },
  {
   "cell_type": "code",
   "execution_count": 21,
   "metadata": {},
   "outputs": [
    {
     "data": {
      "image/png": "[encoded data removed]",
      "text/plain": [
       "<Figure size 1080x576 with 1 Axes>"
      ]
     },
     "metadata": {
      "needs_background": "light"
     },
     "output_type": "display_data"
    }
   ],
   "source": [
    "# let's visualize the most ten profitable movies\n",
    "plt.figure(figsize=(15,8))\n",
    "ten_movies=df[['original_title','net_profit']].sort_values('net_profit',ascending=False).head(10)\n",
    "sns.barplot(x='original_title',y='net_profit',data=ten_movies)\n",
    "plt.xlabel('Title')\n",
    "plt.ylabel('Profit')\n",
    "plt.title(\"The Most Ten Profitable Movies\")\n",
    "plt.xticks(rotation=90)\n",
    "plt.show()"
   ]
  },
  {
   "cell_type": "markdown",
   "metadata": {},
   "source": [
    "### Research Question 3  (Which years has biggest and smallest number of producing Movies?)"
   ]
  },
  {
   "cell_type": "code",
   "execution_count": 13,
   "metadata": {},
   "outputs": [
    {
     "name": "stdout",
     "output_type": "stream",
     "text": [
      "2011    199\n",
      "2013    180\n",
      "2010    178\n",
      "2009    174\n",
      "2006    169\n",
      "2008    167\n",
      "2014    165\n",
      "2007    165\n",
      "2005    163\n",
      "2015    160\n",
      "2012    158\n",
      "2004    147\n",
      "2002    127\n",
      "2003    121\n",
      "2001    121\n",
      "1999    116\n",
      "2000    106\n",
      "1998     92\n",
      "1997     90\n",
      "1996     86\n",
      "1995     81\n",
      "1993     72\n",
      "1994     62\n",
      "1988     57\n",
      "1990     53\n",
      "1992     53\n",
      "1989     51\n",
      "1991     50\n",
      "1986     48\n",
      "1987     46\n",
      "1984     42\n",
      "1985     41\n",
      "1983     31\n",
      "1981     30\n",
      "1982     26\n",
      "1980     23\n",
      "1977     19\n",
      "1978     17\n",
      "1979     16\n",
      "1976     15\n",
      "1971     13\n",
      "1967     13\n",
      "1974     13\n",
      "1973     12\n",
      "1970     11\n",
      "1961     10\n",
      "1975      9\n",
      "1968      9\n",
      "1972      8\n",
      "1964      7\n",
      "1962      7\n",
      "1963      6\n",
      "1965      5\n",
      "1966      5\n",
      "1960      5\n",
      "1969      4\n",
      "Name: release_year, dtype: int64\n"
     ]
    }
   ],
   "source": [
    "# calculating the numder of produced movies during each year\n",
    "count=df['release_year'].value_counts()\n",
    "\n",
    "print(count);"
   ]
  },
  {
   "cell_type": "code",
   "execution_count": 14,
   "metadata": {},
   "outputs": [
    {
     "name": "stdout",
     "output_type": "stream",
     "text": [
      "the smallest number of producing Movies equal 4 --> in: 1969\n",
      "the biggest number of producing Movies equal 199 --> in: 2011\n"
     ]
    }
   ],
   "source": [
    "# the year that has the smallest  number of producing Movies\n",
    "small_num=df['release_year'].value_counts().min()\n",
    "small_num_id=df['release_year'].value_counts().idxmin()\n",
    "print(\"the smallest number of producing Movies equal {} --> in: {}\".format(small_num,small_num_id));\n",
    "# the year that has the biggest  number of producing Movies\n",
    "big_num=df['release_year'].value_counts().max()\n",
    "big_num_id=df['release_year'].value_counts().idxmax()\n",
    "print(\"the biggest number of producing Movies equal {} --> in: {}\".format(big_num,big_num_id));"
   ]
  },
  {
   "cell_type": "code",
   "execution_count": 24,
   "metadata": {},
   "outputs": [
    {
     "data": {
      "image/png": "[encoded data removed]",
      "text/plain": [
       "<Figure size 1080x576 with 1 Axes>"
      ]
     },
     "metadata": {
      "needs_background": "light"
     },
     "output_type": "display_data"
    }
   ],
   "source": [
    "# visualization of  the number of movies per years\n",
    "plt.figure(figsize=(15,8))\n",
    "plt.title(\"The Number Of Movies Per Year\")\n",
    "plt.xticks(rotation=90)\n",
    "sns.countplot(df['release_year'],palette='Blues')\n",
    "plt.show()"
   ]
  },
  {
   "cell_type": "markdown",
   "metadata": {},
   "source": [
    "### Research Question 4  (Average (budgets,runtime) of the movies)"
   ]
  },
  {
   "cell_type": "code",
   "execution_count": 20,
   "metadata": {},
   "outputs": [],
   "source": [
    "# define a function to calculate and return average of a column\n",
    "def average(column):\n",
    "    return df[column].mean()"
   ]
  },
  {
   "cell_type": "code",
   "execution_count": 21,
   "metadata": {},
   "outputs": [
    {
     "name": "stdout",
     "output_type": "stream",
     "text": [
      "the average budget to make a movie equal : \n"
     ]
    },
    {
     "data": {
      "text/plain": [
       "37203696.954852104"
      ]
     },
     "execution_count": 21,
     "metadata": {},
     "output_type": "execute_result"
    }
   ],
   "source": [
    "# calculate the average of budget column\n",
    "print('the average budget to make a movie equal : ')\n",
    "average('budget')"
   ]
  },
  {
   "cell_type": "code",
   "execution_count": 22,
   "metadata": {},
   "outputs": [
    {
     "name": "stdout",
     "output_type": "stream",
     "text": [
      "the average runtime of a movie equal : \n"
     ]
    },
    {
     "data": {
      "text/plain": [
       "109.22029060716139"
      ]
     },
     "execution_count": 22,
     "metadata": {},
     "output_type": "execute_result"
    }
   ],
   "source": [
    "# calculate the average of runtime column\n",
    "print(\"the average runtime of a movie equal : \")\n",
    "average('runtime')"
   ]
  },
  {
   "cell_type": "markdown",
   "metadata": {},
   "source": [
    "### Research Question 5  (Relation between profits and years and which year had maximum and minimum profits?)"
   ]
  },
  {
   "cell_type": "code",
   "execution_count": 24,
   "metadata": {},
   "outputs": [],
   "source": [
    "profits_year = df.groupby('release_year')['net_profit'].sum()"
   ]
  },
  {
   "cell_type": "code",
   "execution_count": 25,
   "metadata": {},
   "outputs": [
    {
     "data": {
      "text/plain": [
       "19032145273.0"
      ]
     },
     "execution_count": 25,
     "metadata": {},
     "output_type": "execute_result"
    }
   ],
   "source": [
    "# 1-the max profit \n",
    "profits_year.max()"
   ]
  },
  {
   "cell_type": "code",
   "execution_count": 26,
   "metadata": {},
   "outputs": [
    {
     "data": {
      "text/plain": [
       "2015"
      ]
     },
     "execution_count": 26,
     "metadata": {},
     "output_type": "execute_result"
    }
   ],
   "source": [
    "# 2-the year in which the max profit\n",
    "profits_year.idxmax()"
   ]
  },
  {
   "cell_type": "code",
   "execution_count": 27,
   "metadata": {},
   "outputs": [
    {
     "data": {
      "text/plain": [
       "52468689.0"
      ]
     },
     "execution_count": 27,
     "metadata": {},
     "output_type": "execute_result"
    }
   ],
   "source": [
    "# 3-the min profit\n",
    "profits_year.min()"
   ]
  },
  {
   "cell_type": "code",
   "execution_count": 28,
   "metadata": {},
   "outputs": [
    {
     "data": {
      "text/plain": [
       "1966"
      ]
     },
     "execution_count": 28,
     "metadata": {},
     "output_type": "execute_result"
    }
   ],
   "source": [
    "# 4- the year in which the min profit\n",
    "profits_year.idxmin()"
   ]
  },
  {
   "cell_type": "code",
   "execution_count": 29,
   "metadata": {},
   "outputs": [
    {
     "name": "stdout",
     "output_type": "stream",
     "text": [
      " the maximum profit equal 19032145273.0 that happend in: 2015\n",
      " the minimum profit equal 52468689.0 that happend in: 1966\n"
     ]
    }
   ],
   "source": [
    "print(\" the maximum profit equal {} that happend in: {}\".format(profits_year.max(),profits_year.idxmax()));\n",
    "print(\" the minimum profit equal {} that happend in: {}\".format(profits_year.min(),profits_year.idxmin()));"
   ]
  },
  {
   "cell_type": "markdown",
   "metadata": {},
   "source": [
    "<a id='conclusions'></a>\n",
    "## Conclusions\n",
    "\n",
    "Using this data, we were able to find out which movies have the largest budgets, and thus know the heroes of this work. Through this, we can conclude that if you want the movie to generate revenues, it must include these heroes. We were also able to know the extent of the growth of the movie industry’s revenues over the time period mentioned in the database Knowing the amounts that have been spent on the manufacture of these works, and we also learned about the extent of the expansion and growth of this industry over the years through a planned vision of the number of works that have been produced over the years."
   ]
  },
  {
   "cell_type": "markdown",
   "metadata": {},
   "source": [
    "<a id='limitations'></a>\n",
    "## Limitations :\n",
    "This analysis was done considering the movies. we are not sure if the data provided to us is completel corect and up-to-date. As mentioned before the budget and revenue column do not have currency unit, it might be possible different movies have budget in different currency according to the country they are produce in. So a disparity arises here which can state the complete analysis wrong. Dropping the rows with NAN values also affected the overall analysis Important note: I worked on this database without knowing whether this data is correct or not"
   ]
  }
 ],
 "metadata": {
  "kernelspec": {
   "display_name": "Python 3",
   "language": "python",
   "name": "python3"
  },
  "language_info": {
   "codemirror_mode": {
    "name": "ipython",
    "version": 3
   },
   "file_extension": ".py",
   "mimetype": "text/x-python",
   "name": "python",
   "nbconvert_exporter": "python",
   "pygments_lexer": "ipython3",
   "version": "3.7.4"
  }
 },
 "nbformat": 4,
 "nbformat_minor": 2
}
